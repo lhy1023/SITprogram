{
 "cells": [
  {
   "cell_type": "markdown",
   "metadata": {},
   "source": [
    "### 简介\n",
    "此版本为综合v1中两种方法采集到的所有可用信息作为数据集。\n",
    "\n",
    "输入主要包含：\n",
    "1. 脸部图片\n",
    "2. 眼部部分截图\n",
    "3. 提取出的脸部信息（左右宽度比，上下高度比）\n",
    "\n",
    "输出：鼠标位置的横、纵坐标\n",
    "\n",
    "主要更新内容：\n",
    "路径保存问题，时间戳命名，csv内容\n",
    "\n",
    "注意事项：\n",
    "1. 当前版本中，通过摄像头采集照片，和采集照片后进行加工处理的两部分必须挨着完成，即不能从其他途径引入命名格式不同，或获取时间不同的图片（由于采用仅存于内存中的数据结构保存关键数据）"
   ]
  },
  {
   "cell_type": "code",
   "execution_count": 1,
   "metadata": {},
   "outputs": [],
   "source": [
    "#引入所有需要的模块，如有未安装的库建议pip install\n",
    "# PyAutoGUI是一个纯Python的GUI自动化工具，其目的是可以用程序自动控制鼠标和键盘操作，多平台支持（Windows，OS X，Linux）。\n",
    "#cv2即opencv2，用于实现电脑摄像头的调用等操作\n",
    "#PIL 为Python 常用图像处理模块\n",
    "import pyautogui as pag\n",
    "import time\n",
    "import requests\n",
    "import os\n",
    "import cv2\n",
    "import urllib3,base64\n",
    "import json\n",
    "from PIL import Image\n",
    "from urllib.parse import urlencode\n",
    "import csv"
   ]
  },
  {
   "cell_type": "markdown",
   "metadata": {},
   "source": [
    "###  一、收集并保存摄像头照片\n",
    "通过openCV调用摄像头，**在按下空格键时保存照片**，命名为鼠标所在位置的元组形式。\n",
    "\n",
    "运行此单元格后将弹出名为Capture的摄像头视频页面，敲击空格即可保存图片，通过ESC键终止运行。"
   ]
  },
  {
   "cell_type": "code",
   "execution_count": 2,
   "metadata": {},
   "outputs": [],
   "source": [
    "#初始化相关数据文件夹和暂存用数据结构\n",
    "paths = ['./dataset_origin/','./dataset_face/','./dataset_eye/']\n",
    "for path in paths:\n",
    "    if not os.path.exists(path):\n",
    "        os.makedirs(path)\n",
    "#存放图片时间戳（字符串形式，固定为10位）和对应鼠标坐标（元组形式）\n",
    "photoDic = {}\n",
    "# 存放csv文件的原始数据，每行五列，对应图片名（时间戳），额外参数（paramX,paramY),鼠标横、纵坐标\n",
    "rows = []"
   ]
  },
  {
   "cell_type": "code",
   "execution_count": 3,
   "metadata": {},
   "outputs": [
    {
     "name": "stdout",
     "output_type": "stream",
     "text": [
      "1613915168\n",
      "1613915169\n",
      "1613915170\n"
     ]
    }
   ],
   "source": [
    "#获取屏幕大小\n",
    "screenWidth,screenHeight = pag.size()\n",
    "#计算获得屏幕原点位置，定为屏幕中心点\n",
    "origin = (screenWidth/2,screenHeight/2)\n",
    "\n",
    "cap=cv2.VideoCapture(0) #调用摄像头，0为电脑自带摄像头，1为外部摄像头\n",
    "while(1):\n",
    "    ret,frame = cap.read()\n",
    "    k=cv2.waitKey(1)\n",
    "    if k==27: #Esc键退出\n",
    "        break\n",
    "    elif k==32:#空格键保存图片\n",
    "        #获取当前鼠标绝对位置\n",
    "        currMouseX,currMouseY = pag.position() \n",
    "        #将鼠标绝对位置转化为相对于原点的相对坐标，并进行归一化处理\n",
    "        #对归一化处理有疑惑可参考：https://www.jianshu.com/p/95a8f035c86c\n",
    "        currMouse = ((currMouseX-origin[0])/origin[0],(origin[1]-currMouseY)/origin[1])\n",
    "        #调用python自带的库time，快捷地获取当前时间生成时间戳\n",
    "        curr_time = str(int(time.time()))\n",
    "        #将图片的命名信息和对应鼠标坐标暂时保存至此字典中\n",
    "        photoDic[curr_time] = currMouse\n",
    "        cv2.imwrite(paths[0]+ curr_time +'.jpg',frame)\n",
    "        print(curr_time) #方便调试，若成功保存则会立刻在控制台输出\n",
    "    cv2.imshow(\"capture\", frame)\n",
    "cap.release()\n",
    "cv2.destroyAllWindows()"
   ]
  },
  {
   "cell_type": "markdown",
   "metadata": {},
   "source": [
    "### 二、调用人脸识别API获取关键点信息\n",
    "调用百度AI-人脸识别以照片进行处理，并找出照片中的脸部关键点信息，以方便对图片信息进行下一步的处理。\n",
    "\n",
    "BaiduAI 相关技术文档：https://ai.baidu.com/ai-doc/FACE/yk37c1u4t\n",
    "\n",
    "注：此方法仅支持2QPS的查询率（即每秒2次的查询率），如需实际应用或用于实时演示则需更改此部分的代码或购买更大的处理能力。也可通过申请多个百度账号，建立账号池以增大qps。"
   ]
  },
  {
   "cell_type": "code",
   "execution_count": 4,
   "metadata": {},
   "outputs": [
    {
     "name": "stdout",
     "output_type": "stream",
     "text": [
      "24.c16e32ee9bc4d45c81b5326d79b9709c.2592000.1616507179.282335-22192901\n"
     ]
    }
   ],
   "source": [
    "# 首先通过百度AI提供的方法获取申请服务时的ID参数access_token，此参数至少一个月需更新一次，此处提供的为我的access_token\n",
    "import requests \n",
    "\n",
    "# client_id 为官网获取的AK， client_secret 为官网获取的SK\n",
    "host = 'https://aip.baidubce.com/oauth/2.0/token?grant_type=client_credentials&client_id=QGsRMBXewEr9zcmapc3HeIVC&client_secret=PloEXIBs9Sf30tYVVtOppftGGgnqTwNh'\n",
    "access_token = 'wait_to_get'\n",
    "response = requests.get(host)\n",
    "if response:\n",
    "    access_token = response.json()['access_token']\n",
    "    print(access_token)\n",
    "\n",
    "#BaiduAI 人脸关键点识别方法调用，参数为文件路径，返回json格式的BaiduAI的反馈\n",
    "def BaiduMethod(filepath):\n",
    "    file = open(filepath,'rb')\n",
    "    img =  open(filepath,'rb')\n",
    "    #参数images：图像base64编码 分别base64编码后的2张图片数据，需urlencode，半角逗号分隔，单次请求最大不超过20M\n",
    "    img1 = base64.b64encode(img.read())\n",
    "    request_url = \"https://aip.baidubce.com/rest/2.0/face/v3/detect\"+ \"?access_token=\" + access_token\n",
    "    params = {'image':str(img1,'utf-8'),'image_type':'BASE64','face_field':'landmark'}\n",
    "    headers = {'content-type': 'application/json'}\n",
    "    return requests.post(request_url, data=params, headers=headers)"
   ]
  },
  {
   "cell_type": "code",
   "execution_count": 29,
   "metadata": {},
   "outputs": [
    {
     "name": "stdout",
     "output_type": "stream",
     "text": [
      "{'error_code': 0, 'error_msg': 'SUCCESS', 'log_id': 3520115101891, 'timestamp': 1613653149, 'cached': 0, 'result': {'face_num': 1, 'face_list': [{'face_token': 'a85ff30e1579e8ff63932726564c7acb', 'location': {'left': 282.39, 'top': 164.44, 'width': 202, 'height': 207, 'rotation': -5}, 'face_probability': 1, 'angle': {'yaw': 8.32, 'pitch': 4.3, 'roll': -8.22}, 'landmark': [{'x': 335.96, 'y': 194.67}, {'x': 426.79, 'y': 186.54}, {'x': 382.05, 'y': 237.5}, {'x': 388.93, 'y': 298.03}], 'landmark72': [{'x': 286.38, 'y': 208.36}, {'x': 291.3, 'y': 240.12}, {'x': 299.09, 'y': 271.96}, {'x': 308.82, 'y': 303.3}, {'x': 329.66, 'y': 334.42}, {'x': 361.85, 'y': 357.45}, {'x': 395.06, 'y': 362.52}, {'x': 427.94, 'y': 352.67}, {'x': 458.79, 'y': 326.53}, {'x': 477.9, 'y': 292.18}, {'x': 484.29, 'y': 258.36}, {'x': 487.15, 'y': 224.6}, {'x': 487.68, 'y': 191.39}, {'x': 315.44, 'y': 200.37}, {'x': 323.8, 'y': 191.81}, {'x': 334.38, 'y': 188.37}, {'x': 345.34, 'y': 189.96}, {'x': 355.21, 'y': 198.1}, {'x': 345.82, 'y': 201.19}, {'x': 335.09, 'y': 203.49}, {'x': 324.04, 'y': 203.13}, {'x': 335.96, 'y': 194.67}, {'x': 298.4, 'y': 181.67}, {'x': 308.7, 'y': 165.13}, {'x': 324.98, 'y': 160.1}, {'x': 341.47, 'y': 160.62}, {'x': 356.91, 'y': 169.95}, {'x': 341.55, 'y': 171.36}, {'x': 325.93, 'y': 172.31}, {'x': 311.3, 'y': 175.89}, {'x': 407.9, 'y': 193.47}, {'x': 416.33, 'y': 183.57}, {'x': 426.61, 'y': 179.99}, {'x': 437.65, 'y': 181.57}, {'x': 447.85, 'y': 188.33}, {'x': 439.32, 'y': 192.87}, {'x': 428.5, 'y': 195.05}, {'x': 417.77, 'y': 194.86}, {'x': 426.79, 'y': 186.54}, {'x': 398.93, 'y': 166.19}, {'x': 413.23, 'y': 153.84}, {'x': 429.89, 'y': 150.81}, {'x': 447.39, 'y': 152.79}, {'x': 461.71, 'y': 166.95}, {'x': 446.65, 'y': 163.52}, {'x': 430.99, 'y': 163.07}, {'x': 414.83, 'y': 164.85}, {'x': 367.16, 'y': 197.38}, {'x': 364.62, 'y': 215.3}, {'x': 361.94, 'y': 233.65}, {'x': 357.43, 'y': 256.22}, {'x': 371.1, 'y': 253.6}, {'x': 398.41, 'y': 251.08}, {'x': 412.47, 'y': 251.04}, {'x': 403.79, 'y': 229.76}, {'x': 398.79, 'y': 212.26}, {'x': 393.93, 'y': 194.96}, {'x': 382.05, 'y': 237.5}, {'x': 355.3, 'y': 301.59}, {'x': 368.52, 'y': 289.07}, {'x': 387.19, 'y': 285.29}, {'x': 407.02, 'y': 285.68}, {'x': 423.96, 'y': 295.99}, {'x': 409.52, 'y': 307.32}, {'x': 390.32, 'y': 312.96}, {'x': 370.42, 'y': 310.77}, {'x': 370.97, 'y': 297.41}, {'x': 388, 'y': 295.2}, {'x': 406.27, 'y': 294.26}, {'x': 406.28, 'y': 297.31}, {'x': 389.01, 'y': 299.21}, {'x': 372.19, 'y': 300.34}]}]}}\n"
     ]
    }
   ],
   "source": [
    "#测试用，可忽略\n",
    "#此处改为所想读取的单个图片\n",
    "filepath = paths[0]+'1613652963.jpg'\n",
    "#考虑到百度AI平台的对并发量的限制，此处推荐分开处理，即获取response后不再重复对同一张照片进行处理\n",
    "response = BaiduMethod(filepath)\n",
    "if response:\n",
    "    print (response.json())"
   ]
  },
  {
   "cell_type": "markdown",
   "metadata": {},
   "source": [
    "<center>关键点识别图片</center>\n",
    "<img src='https://ai.bdstatic.com/file/52BC00FFD4754A6298D977EDAD033DA0' width = '75%'>"
   ]
  },
  {
   "cell_type": "markdown",
   "metadata": {},
   "source": [
    "### 三、根据已有信息生成数据集\n",
    "数据集格式：\n",
    "图片命名均为时间戳\n",
    "1. ./dataset_origin/ 存放摄像头保存的原始照片\n",
    "2. ./dataset_face/ 存放整张脸的照片，命名为当前时间戳\n",
    "3. ./dataset_eye/ 存放眼部照片，截取的范围可进一步精确\n",
    "4. ./dataset_csv 存放图片解析的额外信息(左右宽度比，上下高度比）和图片输出的鼠标横纵坐标"
   ]
  },
  {
   "cell_type": "code",
   "execution_count": 5,
   "metadata": {},
   "outputs": [],
   "source": [
    "#定义图片加工方法\n",
    "#处理dataset_origin中的原始图片，得到相同命名，存放路径不同的脸部和眼部图片。\n",
    "def imgCrop(landmark,img):\n",
    "    box = (landmark[0]['x'],landmark[24]['y'],landmark[12]['x'],landmark[6]['y'])#截取脸部图片\n",
    "    box2 = (landmark[22]['x'],landmark[22]['y'],landmark[22]['x']+150,landmark[22]['y']+50) #截取眼部图片\n",
    "    img2 = img.crop(box)\n",
    "    img3 = img.crop(box2)\n",
    "    #     img2.show() #实时显示切割图片方便微调\n",
    "    img2.save(paths[1]+file) # 存放脸部帐篷\n",
    "    img3.save(paths[2]+file) #存放眼部照片\n",
    "    \n",
    "#定义图片解析方法\n",
    "def imgAnalyse(landmark,file):\n",
    "#      参数一：左半脸与右半脸宽度之比（相对观察者而言的左右）\n",
    "    paramX = abs(landmark[0]['x']-landmark[57]['x'])/abs(landmark[12]['x']-landmark[57]['x'])\n",
    "#       参数二：鼻尖与眼部上侧坐标纵坐标差值(建议进行进一步改进)\n",
    "    eyeY = (landmark[15]['y'] + landmark[32]['y'])/2\n",
    "    paramY = eyeY - landmark[57]['y']\n",
    "    return (paramX,paramY)"
   ]
  },
  {
   "cell_type": "code",
   "execution_count": 6,
   "metadata": {},
   "outputs": [],
   "source": [
    "#遍历原始照片照片文件夹，调用 baidu 方法进行人脸分析，并根据反馈信息进行加工处理\n",
    "dirs = os.listdir(paths[0])\n",
    "for file in dirs:\n",
    "    if(file=='.ipynb_checkpoints'):\n",
    "        continue\n",
    "    filepath = os.path.join(paths[0],file)\n",
    "#     filepath = os.getcwd()+'\\dataset_orgin\\'+file\n",
    "    #调用BaiduAi 方法获取json包\n",
    "    response = BaiduMethod(filepath) \n",
    "    if response and response.json()['error_code']==0:#成功收到且未报错\n",
    "        landmark = response.json()['result']['face_list'][0]['landmark72']\n",
    "        img = Image.open(filepath)\n",
    "        imgCrop(landmark,img)\n",
    "        param = imgAnalyse(landmark,file)\n",
    "        # 一行数据格式为：文件名，额外参数，鼠标坐标\n",
    "        fileName = file[0:10] \n",
    "        mouse = photoDic[fileName]\n",
    "        rows.append([fileName,param[0],param[1],mouse[0],mouse[1]])\n",
    "\n",
    "#将获得的数据写入csv文件中\n",
    "headers = ['fileName','paramX','paramY','mouseX','mouseY']\n",
    "with open('dataset.csv','w') as f:\n",
    "    f_csv = csv.writer(f)\n",
    "    f_csv.writerow(headers)\n",
    "    f_csv.writerows(rows)"
   ]
  }
 ],
 "metadata": {
  "kernelspec": {
   "display_name": "Python 3",
   "language": "python",
   "name": "python3"
  },
  "language_info": {
   "codemirror_mode": {
    "name": "ipython",
    "version": 3
   },
   "file_extension": ".py",
   "mimetype": "text/x-python",
   "name": "python",
   "nbconvert_exporter": "python",
   "pygments_lexer": "ipython3",
   "version": "3.6.10"
  }
 },
 "nbformat": 4,
 "nbformat_minor": 4
}
