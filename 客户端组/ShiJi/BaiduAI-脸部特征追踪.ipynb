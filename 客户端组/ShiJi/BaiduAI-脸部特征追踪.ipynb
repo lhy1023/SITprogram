{
 "cells": [
  {
   "cell_type": "markdown",
   "metadata": {},
   "source": [
    "为实现脸部特征追踪以针对性切割图片，将图片切割至仅包含眼部特征，\n",
    "\n",
    "选择调用百度AI平台提供的人脸检测功能实现。"
   ]
  },
  {
   "cell_type": "code",
   "execution_count": 1,
   "metadata": {},
   "outputs": [],
   "source": [
    "import requests\n",
    "import os\n",
    "import cv2\n",
    "import urllib3,base64\n",
    "import json\n",
    "import time\n",
    "from PIL import Image\n",
    "from urllib.parse import urlencode"
   ]
  },
  {
   "cell_type": "code",
   "execution_count": 2,
   "metadata": {},
   "outputs": [
    {
     "name": "stdout",
     "output_type": "stream",
     "text": [
      "{'refresh_token': '25.8617cf43dddd5bfbe2f46ff6d09c736f.315360000.1914047292.282335-22192901', 'expires_in': 2592000, 'session_key': '9mzdWu2cR2bcvSDFcA4Of2aanu8SxXWz7bfHIRSLPJPwmV4z9hB5lsiZCjwHEdh+pMl2sS+j8cKg8pFzsFAiqqQS5rLYpQ==', 'access_token': '24.a1b67c3901d32ea641762421908082bf.2592000.1601279292.282335-22192901', 'scope': 'public brain_all_scope vis-faceverify_faceverify_h5-face-liveness vis-faceverify_FACE_V3 vis-faceverify_idl_face_merge vis-faceverify_FACE_EFFECT wise_adapt lebo_resource_base lightservice_public hetu_basic lightcms_map_poi kaidian_kaidian ApsMisTest_Test权限 vis-classify_flower lpq_开放 cop_helloScope ApsMis_fangdi_permission smartapp_snsapi_base iop_autocar oauth_tp_app smartapp_smart_game_openapi oauth_sessionkey smartapp_swanid_verify smartapp_opensource_openapi smartapp_opensource_recapi fake_face_detect_开放Scope vis-ocr_虚拟人物助理 idl-video_虚拟人物助理', 'session_secret': 'e8423e99aeb293b997f0a76a44688f3f'}\n"
     ]
    }
   ],
   "source": [
    "#获取access_token\n",
    "\n",
    "# client_id 为官网获取的AK， client_secret 为官网获取的SK\n",
    "host = 'https://aip.baidubce.com/oauth/2.0/token?grant_type=client_credentials&client_id=QGsRMBXewEr9zcmapc3HeIVC&client_secret=PloEXIBs9Sf30tYVVtOppftGGgnqTwNh'\n",
    "response = requests.get(host)\n",
    "if response:\n",
    "    print(response.json())"
   ]
  },
  {
   "cell_type": "markdown",
   "metadata": {},
   "source": [
    "注：由上获取access_token和expires_in（Access Token的有效期，秒为单位，一般为1个月；），其他参数暂时忽略"
   ]
  },
  {
   "cell_type": "code",
   "execution_count": 3,
   "metadata": {},
   "outputs": [],
   "source": [
    "access_token = '24.a1b67c3901d32ea641762421908082bf.2592000.1601279292.282335-22192901'"
   ]
  },
  {
   "cell_type": "code",
   "execution_count": 4,
   "metadata": {},
   "outputs": [
    {
     "name": "stdout",
     "output_type": "stream",
     "text": [
      "D:/UserData/Documents/Jupyter/EyeTrack/DataSet/(-0.5206666666666667, 0.013).jpg\n",
      "D:/UserData/Documents/Jupyter/EyeTrack/DataSet/(-0.608, 0.721).jpg\n",
      "D:/UserData/Documents/Jupyter/EyeTrack/DataSet/(-0.6506666666666666, -0.717).jpg\n",
      "D:/UserData/Documents/Jupyter/EyeTrack/DataSet/(-0.7133333333333334, -0.667).jpg\n",
      "D:/UserData/Documents/Jupyter/EyeTrack/DataSet/(-0.7453333333333333, 0.137).jpg\n",
      "D:/UserData/Documents/Jupyter/EyeTrack/DataSet/(-0.7533333333333333, -0.235).jpg\n",
      "D:/UserData/Documents/Jupyter/EyeTrack/DataSet/(-0.764, 0.459).jpg\n",
      "D:/UserData/Documents/Jupyter/EyeTrack/DataSet/(-0.798, -0.494).jpg\n",
      "D:/UserData/Documents/Jupyter/EyeTrack/DataSet/(-0.8073333333333333, 0.751).jpg\n",
      "D:/UserData/Documents/Jupyter/EyeTrack/DataSet/(-0.832, 0.804).jpg\n",
      "D:/UserData/Documents/Jupyter/EyeTrack/DataSet/(-1.0, -0.988).jpg\n",
      "D:/UserData/Documents/Jupyter/EyeTrack/DataSet/(-1.0, 1.0).jpg\n",
      "D:/UserData/Documents/Jupyter/EyeTrack/DataSet/(0.015333333333333332, -0.447).jpg\n",
      "D:/UserData/Documents/Jupyter/EyeTrack/DataSet/(0.02, 0.053).jpg\n",
      "D:/UserData/Documents/Jupyter/EyeTrack/DataSet/(0.03266666666666666, -0.669).jpg\n",
      "D:/UserData/Documents/Jupyter/EyeTrack/DataSet/(0.066, 0.458).jpg\n",
      "D:/UserData/Documents/Jupyter/EyeTrack/DataSet/(0.49666666666666665, 0.172).jpg\n",
      "D:/UserData/Documents/Jupyter/EyeTrack/DataSet/(0.744, 0.71).jpg\n",
      "D:/UserData/Documents/Jupyter/EyeTrack/DataSet/(0.7566666666666667, -0.804).jpg\n",
      "D:/UserData/Documents/Jupyter/EyeTrack/DataSet/(0.7606666666666667, 0.762).jpg\n",
      "D:/UserData/Documents/Jupyter/EyeTrack/DataSet/(0.7633333333333333, -0.602).jpg\n",
      "D:/UserData/Documents/Jupyter/EyeTrack/DataSet/(0.796, 0.808).jpg\n",
      "D:/UserData/Documents/Jupyter/EyeTrack/DataSet/(0.8006666666666666, -0.068).jpg\n",
      "D:/UserData/Documents/Jupyter/EyeTrack/DataSet/(0.8166666666666667, -0.692).jpg\n",
      "D:/UserData/Documents/Jupyter/EyeTrack/DataSet/(0.8333333333333334, 0.422).jpg\n",
      "D:/UserData/Documents/Jupyter/EyeTrack/DataSet/(0.8453333333333334, 0.08).jpg\n",
      "D:/UserData/Documents/Jupyter/EyeTrack/DataSet/(0.9986666666666667, -0.999).jpg\n",
      "D:/UserData/Documents/Jupyter/EyeTrack/DataSet/(0.9993333333333333, 1.0).jpg\n"
     ]
    }
   ],
   "source": [
    "path = 'D:/UserData/Documents/Jupyter/EyeTrack/DataSet/' #待遍历目录路径\n",
    "dirs = os.listdir(path)\n",
    "for file in dirs:\n",
    "    print(os.path.join(path,file))"
   ]
  },
  {
   "cell_type": "code",
   "execution_count": 5,
   "metadata": {},
   "outputs": [],
   "source": [
    "#将请求的图片经过Base64编码为一串字符串，并用该字符串代替\n",
    "filepath = 'D:/UserData/Documents/Jupyter/EyeTrack/DataSet/(-0.5206666666666667, 0.013).jpg'\n",
    "file = open(filepath,'rb')\n",
    "frame = cv2.imread(filepath)\n",
    "#参数images：图像base64编码 分别base64编码后的2张图片数据，需urlencode，半角逗号分隔，单次请求最大不超过20M\n",
    "img1 = base64.b64encode(file.read())\n",
    "# print(img1) img1为bytes数组"
   ]
  },
  {
   "cell_type": "code",
   "execution_count": 7,
   "metadata": {},
   "outputs": [
    {
     "name": "stdout",
     "output_type": "stream",
     "text": [
      "{'error_code': 0, 'error_msg': 'SUCCESS', 'log_id': 9435054589992, 'timestamp': 1598687347, 'cached': 0, 'result': {'face_num': 1, 'face_list': [{'face_token': '7ceb0c9266de70bdb7e56d4f20f9f650', 'location': {'left': 277.74, 'top': 66.96, 'width': 197, 'height': 209, 'rotation': 2}, 'face_probability': 1, 'angle': {'yaw': -3.76, 'pitch': -6.47, 'roll': -0.05}, 'landmark': [{'x': 332.14, 'y': 109.03}, {'x': 426.11, 'y': 113.61}, {'x': 381.88, 'y': 149.83}, {'x': 376.32, 'y': 211.38}], 'landmark72': [{'x': 273.85, 'y': 137.52}, {'x': 275, 'y': 168.56}, {'x': 278.64, 'y': 199.33}, {'x': 286.85, 'y': 230}, {'x': 309.34, 'y': 259.37}, {'x': 340.03, 'y': 276.43}, {'x': 371.56, 'y': 281.08}, {'x': 401.48, 'y': 277.06}, {'x': 431.51, 'y': 260.88}, {'x': 452.94, 'y': 233.46}, {'x': 462.94, 'y': 204.26}, {'x': 468.68, 'y': 174.71}, {'x': 471.56, 'y': 145.52}, {'x': 310.94, 'y': 113.34}, {'x': 321.13, 'y': 105.67}, {'x': 332.19, 'y': 103.28}, {'x': 342.57, 'y': 105.49}, {'x': 352.52, 'y': 113.46}, {'x': 342.49, 'y': 115.23}, {'x': 331.84, 'y': 116.43}, {'x': 320.73, 'y': 115.74}, {'x': 332.14, 'y': 109.03}, {'x': 297.21, 'y': 92.47}, {'x': 310.58, 'y': 74.54}, {'x': 329.28, 'y': 69.21}, {'x': 347.54, 'y': 70.74}, {'x': 363.04, 'y': 83.08}, {'x': 346.25, 'y': 83.12}, {'x': 329.3, 'y': 82.66}, {'x': 312.7, 'y': 85.71}, {'x': 407.06, 'y': 116.27}, {'x': 417.82, 'y': 108.73}, {'x': 428.64, 'y': 107.65}, {'x': 438.63, 'y': 111.23}, {'x': 447.31, 'y': 120.02}, {'x': 437.97, 'y': 121.55}, {'x': 427.46, 'y': 120.98}, {'x': 416.99, 'y': 118.89}, {'x': 426.11, 'y': 113.61}, {'x': 402.22, 'y': 85.72}, {'x': 417.89, 'y': 74.82}, {'x': 435.23, 'y': 75.05}, {'x': 451.98, 'y': 82.11}, {'x': 461.97, 'y': 100.45}, {'x': 448.93, 'y': 92.72}, {'x': 434.26, 'y': 88.24}, {'x': 418.06, 'y': 87.05}, {'x': 366.65, 'y': 113.54}, {'x': 362.14, 'y': 129.55}, {'x': 357.61, 'y': 145.81}, {'x': 348.89, 'y': 167.75}, {'x': 365.33, 'y': 165.82}, {'x': 394.12, 'y': 166.96}, {'x': 407.75, 'y': 169.75}, {'x': 401.45, 'y': 147.08}, {'x': 398, 'y': 130.8}, {'x': 394.35, 'y': 114.74}, {'x': 381.88, 'y': 149.83}, {'x': 336.27, 'y': 212.25}, {'x': 355.71, 'y': 200.78}, {'x': 378.21, 'y': 199.16}, {'x': 398.68, 'y': 202.58}, {'x': 413.75, 'y': 215.58}, {'x': 395.73, 'y': 221.72}, {'x': 375.85, 'y': 222.49}, {'x': 355, 'y': 220.06}, {'x': 356.52, 'y': 209.83}, {'x': 377.23, 'y': 209.7}, {'x': 396.57, 'y': 211.41}, {'x': 395.33, 'y': 212.4}, {'x': 376.62, 'y': 210.57}, {'x': 356.98, 'y': 210.7}]}]}}\n"
     ]
    }
   ],
   "source": [
    "request_url = \"https://aip.baidubce.com/rest/2.0/face/v3/detect\"+ \"?access_token=\" + access_token\n",
    "\n",
    "params = {'image':str(img1,'utf-8'),'image_type':'BASE64','face_field':'landmark'}\n",
    "headers = {'content-type': 'application/json'}\n",
    "response = requests.post(request_url, data=params, headers=headers)\n",
    "if response:\n",
    "    print (response.json())"
   ]
  },
  {
   "cell_type": "code",
   "execution_count": 19,
   "metadata": {},
   "outputs": [
    {
     "name": "stdout",
     "output_type": "stream",
     "text": [
      "{'face_num': 1, 'face_list': [{'face_token': '7ceb0c9266de70bdb7e56d4f20f9f650', 'location': {'left': 277.74, 'top': 66.96, 'width': 197, 'height': 209, 'rotation': 2}, 'face_probability': 1, 'angle': {'yaw': -3.76, 'pitch': -6.47, 'roll': -0.05}, 'landmark': [{'x': 332.14, 'y': 109.03}, {'x': 426.11, 'y': 113.61}, {'x': 381.88, 'y': 149.83}, {'x': 376.32, 'y': 211.38}], 'landmark72': [{'x': 273.85, 'y': 137.52}, {'x': 275, 'y': 168.56}, {'x': 278.64, 'y': 199.33}, {'x': 286.85, 'y': 230}, {'x': 309.34, 'y': 259.37}, {'x': 340.03, 'y': 276.43}, {'x': 371.56, 'y': 281.08}, {'x': 401.48, 'y': 277.06}, {'x': 431.51, 'y': 260.88}, {'x': 452.94, 'y': 233.46}, {'x': 462.94, 'y': 204.26}, {'x': 468.68, 'y': 174.71}, {'x': 471.56, 'y': 145.52}, {'x': 310.94, 'y': 113.34}, {'x': 321.13, 'y': 105.67}, {'x': 332.19, 'y': 103.28}, {'x': 342.57, 'y': 105.49}, {'x': 352.52, 'y': 113.46}, {'x': 342.49, 'y': 115.23}, {'x': 331.84, 'y': 116.43}, {'x': 320.73, 'y': 115.74}, {'x': 332.14, 'y': 109.03}, {'x': 297.21, 'y': 92.47}, {'x': 310.58, 'y': 74.54}, {'x': 329.28, 'y': 69.21}, {'x': 347.54, 'y': 70.74}, {'x': 363.04, 'y': 83.08}, {'x': 346.25, 'y': 83.12}, {'x': 329.3, 'y': 82.66}, {'x': 312.7, 'y': 85.71}, {'x': 407.06, 'y': 116.27}, {'x': 417.82, 'y': 108.73}, {'x': 428.64, 'y': 107.65}, {'x': 438.63, 'y': 111.23}, {'x': 447.31, 'y': 120.02}, {'x': 437.97, 'y': 121.55}, {'x': 427.46, 'y': 120.98}, {'x': 416.99, 'y': 118.89}, {'x': 426.11, 'y': 113.61}, {'x': 402.22, 'y': 85.72}, {'x': 417.89, 'y': 74.82}, {'x': 435.23, 'y': 75.05}, {'x': 451.98, 'y': 82.11}, {'x': 461.97, 'y': 100.45}, {'x': 448.93, 'y': 92.72}, {'x': 434.26, 'y': 88.24}, {'x': 418.06, 'y': 87.05}, {'x': 366.65, 'y': 113.54}, {'x': 362.14, 'y': 129.55}, {'x': 357.61, 'y': 145.81}, {'x': 348.89, 'y': 167.75}, {'x': 365.33, 'y': 165.82}, {'x': 394.12, 'y': 166.96}, {'x': 407.75, 'y': 169.75}, {'x': 401.45, 'y': 147.08}, {'x': 398, 'y': 130.8}, {'x': 394.35, 'y': 114.74}, {'x': 381.88, 'y': 149.83}, {'x': 336.27, 'y': 212.25}, {'x': 355.71, 'y': 200.78}, {'x': 378.21, 'y': 199.16}, {'x': 398.68, 'y': 202.58}, {'x': 413.75, 'y': 215.58}, {'x': 395.73, 'y': 221.72}, {'x': 375.85, 'y': 222.49}, {'x': 355, 'y': 220.06}, {'x': 356.52, 'y': 209.83}, {'x': 377.23, 'y': 209.7}, {'x': 396.57, 'y': 211.41}, {'x': 395.33, 'y': 212.4}, {'x': 376.62, 'y': 210.57}, {'x': 356.98, 'y': 210.7}]}]}\n"
     ]
    }
   ],
   "source": [
    "result = response.json()['result']\n",
    "print(result)"
   ]
  },
  {
   "cell_type": "code",
   "execution_count": 44,
   "metadata": {},
   "outputs": [
    {
     "name": "stdout",
     "output_type": "stream",
     "text": [
      "{'x': 356.98, 'y': 210.7}\n"
     ]
    }
   ],
   "source": [
    "face_location =  result['face_list'][0]['location']\n",
    "landmark = result['face_list'][0]['landmark72']\n",
    "print(landmark[71])"
   ]
  },
  {
   "cell_type": "markdown",
   "metadata": {},
   "source": [
    "### 声明\n",
    "图片切割必须解决如下问题：\n",
    "眼部切割所得的图片必须是同样大小的矩形，如何实现？\n",
    "1. 考虑提前定长（如何确保一定包含眼部？不同角度，位置的照片中眼部面积可能不同）\n",
    "2. 根据设备调整模型？\n",
    "\n",
    "暂定解决方案：先完整截取眼部图片，随后进行微调尽量删除无效信息，其次通过resize方法调整图片大小至模型所需输入参数。\n"
   ]
  },
  {
   "cell_type": "markdown",
   "metadata": {},
   "source": [
    "百度AI 人脸识别技术文档：https://ai.baidu.com/ai-doc/FACE/yk37c1u4t"
   ]
  },
  {
   "cell_type": "code",
   "execution_count": 61,
   "metadata": {},
   "outputs": [],
   "source": [
    "#切割人脸整体示意\n",
    "left = face_location['left']\n",
    "top =  face_location['top']\n",
    "right = left+face_location['width']\n",
    "below = top+face_location['height']\n",
    "im = Image.open('D:/UserData/Documents/Jupyter/EyeTrack/DataSet/(-0.5206666666666667, 0.013).jpg')\n",
    "im2 = im.crop((left,top,right,below))\n",
    "im2.show()"
   ]
  },
  {
   "cell_type": "code",
   "execution_count": 67,
   "metadata": {},
   "outputs": [],
   "source": [
    "#考虑使用定长，对人机相对位置要求提高\n",
    "left = landmark[23]['x']\n",
    "top = landmark[23]['y']\n",
    "right = left + 200\n",
    "below = top +50\n",
    "im2 = im.crop((left,top,right,below))\n",
    "im2.show()"
   ]
  },
  {
   "cell_type": "code",
   "execution_count": 59,
   "metadata": {},
   "outputs": [],
   "source": [
    "path = 'D:/UserData/Documents/Jupyter/EyeTrack/DataSet/' #待遍历目录路径\n",
    "save_path = 'D:/UserData/Documents/Jupyter/EyeTrack/DataSet02/'#保存文件目录\n",
    "dirs = os.listdir(path)\n",
    "for file in dirs:\n",
    "    type(file)\n",
    "    break"
   ]
  },
  {
   "cell_type": "code",
   "execution_count": 60,
   "metadata": {},
   "outputs": [],
   "source": [
    "path = 'D:/UserData/Documents/Jupyter/EyeTrack/DataSet/' #待遍历目录路径\n",
    "save_path = 'D:/UserData/Documents/Jupyter/EyeTrack/DataSet02/'#保存文件目录\n",
    "dirs = os.listdir(path)\n",
    "for file in dirs:\n",
    "    filepath = os.path.join(path,file)\n",
    "    img = open(filepath,'rb')\n",
    "    #参数images：图像base64编码 分别base64编码后的2张图片数据，需urlencode，半角逗号分隔，单次请求最大不超过20M\n",
    "    img1 = base64.b64encode(img.read())\n",
    "    #向百度AI平台发送请求\n",
    "    request_url = \"https://aip.baidubce.com/rest/2.0/face/v3/detect\"+ \"?access_token=\" + access_token\n",
    "    params = {'image':str(img1,'utf-8'),'image_type':'BASE64','face_field':'landmark'}\n",
    "    headers = {'content-type': 'application/json'}\n",
    "    response = requests.post(request_url, data=params, headers=headers)\n",
    "    if response and response.json()['error_code']==0:#成功收到且未报错\n",
    "        landmark = response.json()['result']['face_list'][0]['landmark72']\n",
    "        img2 = Image.open(filepath)\n",
    "        box = (landmark[22]['x'],landmark[22]['y'],landmark[22]['x']+150,landmark[22]['y']+50)\n",
    "        img3 = img2.crop(box)\n",
    "        img3.save(save_path+file+'.jpg')"
   ]
  }
 ],
 "metadata": {
  "kernelspec": {
   "display_name": "Python 3",
   "language": "python",
   "name": "python3"
  },
  "language_info": {
   "codemirror_mode": {
    "name": "ipython",
    "version": 3
   },
   "file_extension": ".py",
   "mimetype": "text/x-python",
   "name": "python",
   "nbconvert_exporter": "python",
   "pygments_lexer": "ipython3",
   "version": "3.6.10"
  }
 },
 "nbformat": 4,
 "nbformat_minor": 4
}
