{
 "cells": [
  {
   "cell_type": "code",
   "execution_count": 53,
   "metadata": {},
   "outputs": [],
   "source": [
    "import csv\n",
    "import os\n",
    "import re"
   ]
  },
  {
   "cell_type": "markdown",
   "metadata": {},
   "source": [
    "以下是需要写入数据的文件"
   ]
  },
  {
   "cell_type": "markdown",
   "metadata": {},
   "source": [
    "# 处理已经有的之前的保存方式的图片用下面这个代码去掉括号"
   ]
  },
  {
   "cell_type": "code",
   "execution_count": 55,
   "metadata": {},
   "outputs": [
    {
     "data": {
      "text/plain": [
       "'\\n#临时\\npath = \\'C:/Users/Lenovo/Desktop/模型/class4存在bug/MNIST_FC/mnist_image_label/mnist_train_jpg_106/\\' #待遍历目录路径\\ndirs = os.listdir(path)\\nfor file in dirs:\\n    x = []\\n    Olddir=os.path.join(path,file) #原来的文件路径\\n    if os.path.isdir(Olddir): #如果是文件夹则跳过\\n        continue\\n    filename=os.path.splitext(file)[0] #文件名\\n    filetype=os.path.splitext(file)[1] #文件扩展名\\n    print(filename)\\n    for i in filename:\\n        if i == \\'j\\' :\\n            break\\n        if i == \\',\\':\\n            x.append(\\' \\')\\n        else:\\n            x.append(i)\\n    x.append(\\' \\')\\n    x.pop(0)\\n    x.pop(-2)\\n    y = \\'\\'.join(x)\\n    Newdir=os.path.join(path,y+filetype)\\n    os.rename(Olddir,Newdir)#重命名\\n    print(Olddir+\" has changed as \"+Newdir)\\n            '"
      ]
     },
     "execution_count": 55,
     "metadata": {},
     "output_type": "execute_result"
    }
   ],
   "source": [
    "#临时\n",
    "path = 'C:/Users/Lenovo/Desktop/模型/class4存在bug/MNIST_FC/mnist_image_label/mnist_train_jpg_106/' #待遍历目录路径\n",
    "dirs = os.listdir(path)\n",
    "for file in dirs:\n",
    "    x = []\n",
    "    Olddir=os.path.join(path,file) #原来的文件路径\n",
    "    if os.path.isdir(Olddir): #如果是文件夹则跳过\n",
    "        continue\n",
    "    filename=os.path.splitext(file)[0] #文件名\n",
    "    filetype=os.path.splitext(file)[1] #文件扩展名\n",
    "    print(filename)\n",
    "    for i in filename:\n",
    "        if i == 'j' :\n",
    "            break\n",
    "        if i == ',':\n",
    "            x.append(' ')\n",
    "        else:\n",
    "            x.append(i)\n",
    "    x.append(' ')\n",
    "    x.pop(0)\n",
    "    x.pop(-2)\n",
    "    y = ''.join(x)\n",
    "    Newdir=os.path.join(path,y+filetype)\n",
    "    os.rename(Olddir,Newdir)#重命名\n",
    "    print(Olddir+\" has changed as \"+Newdir)\n",
    "            "
   ]
  },
  {
   "cell_type": "markdown",
   "metadata": {},
   "source": [
    "# 将创建的数据集写入csv文件"
   ]
  },
  {
   "cell_type": "code",
   "execution_count": 67,
   "metadata": {},
   "outputs": [],
   "source": [
    "with open('C:/Users/Lenovo/Desktop/模型/class4存在bug/MNIST_FC/mnist_image_label/mnist_test_jpg张皓天改.csv','w',newline='') as csvfile:\n",
    "    writer = csv.writer(csvfile)\n",
    "    path = 'C:/Users/Lenovo/Desktop/模型/class4存在bug/MNIST_FC/mnist_image_label/mnist_test_jpg_18/' #待遍历目录路径\n",
    "    dirs = os.listdir(path)\n",
    "    for file in dirs:\n",
    "        Olddir=os.path.join(path,file) #原来的文件路径\n",
    "        if os.path.isdir(Olddir): #如果是文件夹则跳过\n",
    "            continue\n",
    "        filename=os.path.splitext(file)[0] #文件名\n",
    "        value = filename.split()  # 以空格分开，x为value[0] , y为value[1] , 存入列表\n",
    "        writer.writerow([file,value[0],value[1]]) \n"
   ]
  },
  {
   "cell_type": "code",
   "execution_count": null,
   "metadata": {},
   "outputs": [],
   "source": []
  }
 ],
 "metadata": {
  "kernelspec": {
   "display_name": "Python 3",
   "language": "python",
   "name": "python3"
  },
  "language_info": {
   "codemirror_mode": {
    "name": "ipython",
    "version": 3
   },
   "file_extension": ".py",
   "mimetype": "text/x-python",
   "name": "python",
   "nbconvert_exporter": "python",
   "pygments_lexer": "ipython3",
   "version": "3.7.6"
  }
 },
 "nbformat": 4,
 "nbformat_minor": 4
}
